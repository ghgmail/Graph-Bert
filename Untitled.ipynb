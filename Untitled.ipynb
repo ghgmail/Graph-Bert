{
 "cells": [
  {
   "cell_type": "markdown",
   "metadata": {},
   "source": [
    "## fjkslad"
   ]
  },
  {
   "cell_type": "code",
   "execution_count": null,
   "metadata": {},
   "outputs": [],
   "source": []
  },
  {
   "cell_type": "code",
   "execution_count": 1,
   "metadata": {},
   "outputs": [
    {
     "name": "stdout",
     "output_type": "stream",
     "text": [
      "Collecting package metadata (current_repodata.json): done\n",
      "Solving environment: - \n",
      "Warning: >10 possible package resolutions (only showing differing packages):\n",
      "  - https://repo.anaconda.com/pkgs/main/linux-64/linux-64::conda-env-2.6.0-1, https://repo.anaconda.com/pkgs/main/noarch/noarch::backports.functools_lru_cache-1.6.1-py_0, https://repo.anaconda.com/pkgs/main/noarch/noarch::backports.tempfile-1.0-py_1, https://repo.anaconda.com/pkgs/main/noarch/noarch::backports.weakref-1.0.post1-py_1\n",
      "  - defaults/linux-64::conda-env-2.6.0-1, https://repo.anaconda.com/pkgs/main/noarch/noarch::backports.functools_lru_cache-1.6.1-py_0, https://repo.anaconda.com/pkgs/main/noarch/noarch::backports.tempfile-1.0-py_1, https://repo.anaconda.com/pkgs/main/noarch/noarch::backports.weakref-1.0.post1-py_1\n",
      "  - defaults/noarch::backports.functools_lru_cache-1.6.1-py_0, https://repo.anaconda.com/pkgs/main/linux-64/linux-64::conda-env-2.6.0-1, https://repo.anaconda.com/pkgs/main/noarch/noarch::backports.tempfile-1.0-py_1, https://repo.anaconda.com/pkgs/main/noarch/noarch::backports.weakref-1.0.post1-py_1\n",
      "  - defaults/linux-64::conda-env-2.6.0-1, defaults/noarch::backports.functools_lru_cache-1.6.1-py_0, https://repo.anaconda.com/pkgs/main/noarch/noarch::backports.tempfile-1.0-py_1, https://repo.anaconda.com/pkgs/main/noarch/noarch::backports.weakref-1.0.post1-py_1\n",
      "  - defaults/noarch::backports.functools_lru_cache-1.6.1-py_0, defaults/noarch::backports.weakref-1.0.post1-py_1, https://repo.anaconda.com/pkgs/main/linux-64/linux-64::conda-env-2.6.0-1, https://repo.anaconda.com/pkgs/main/noarch/noarch::backports.tempfile-1.0-py_1\n",
      "  - defaults/linux-64::conda-env-2.6.0-1, defaults/noarch::backports.functools_lru_cache-1.6.1-py_0, defaults/noarch::backports.weakref-1.0.post1-py_1, https://repo.anaconda.com/pkgs/main/noarch/noarch::backports.tempfile-1.0-py_1\n",
      "  - defaults/noarch::backports.weakref-1.0.post1-py_1, https://repo.anaconda.com/pkgs/main/linux-64/linux-64::conda-env-2.6.0-1, https://repo.anaconda.com/pkgs/main/noarch/noarch::backports.functools_lru_cache-1.6.1-py_0, https://repo.anaconda.com/pkgs/main/noarch/noarch::backports.tempfile-1.0-py_1\n",
      "  - defaults/linux-64::conda-env-2.6.0-1, defaults/noarch::backports.weakref-1.0.post1-py_1, https://repo.anaconda.com/pkgs/main/noarch/noarch::backports.functools_lru_cache-1.6.1-py_0, https://repo.anaconda.com/pkgs/main/noarch/noarch::backports.tempfile-1.0-py_1\n",
      "  - defaults/noarch::backports.tempfile-1.0-py_1, defaults/noarch::backports.weakref-1.0.post1-py_1, https://repo.anaconda.com/pkgs/main/linux-64/linux-64::conda-env-2.6.0-1, https://repo.anaconda.com/pkgs/main/noarch/noarch::backports.functools_lru_cache-1.6.1-py_0\n",
      "  - defaults/noarch::backports.tempfile-1.0-py_1, https://repo.anaconda.com/pkgs/main/linux-64/linux-64::conda-env-2.6.0-1, https://repo.anaconda.com/pkgs/main/noarch/noarch::backports.functools_lru_cache-1.6.1-py_0, https://repo.anaconda.com/pkgs/main/noarch/noarch::backports.weakref-1.0.post1-py_1\n",
      "  ... and othedone\n",
      "\n",
      "## Package Plan ##\n",
      "\n",
      "  environment location: /home/zk/anaconda3\n",
      "\n",
      "  added / updated specs:\n",
      "    - jupyter_contrib_nbextensions\n",
      "\n",
      "\n",
      "The following packages will be downloaded:\n",
      "\n",
      "    package                    |            build\n",
      "    ---------------------------|-----------------\n",
      "    conda-4.8.3                |   py37hc8dfbb8_1         3.0 MB  conda-forge\n",
      "    jupyter_contrib_core-0.3.3 |             py_2          15 KB  conda-forge\n",
      "    jupyter_contrib_nbextensions-0.5.1|           py37_0        19.4 MB  conda-forge\n",
      "    jupyter_highlight_selected_word-0.2.0|        py37_1000          13 KB  conda-forge\n",
      "    jupyter_latex_envs-1.4.6   |        py37_1000         674 KB  conda-forge\n",
      "    jupyter_nbextensions_configurator-0.4.1|   py37hc8dfbb8_1         470 KB  conda-forge\n",
      "    python_abi-3.7             |          1_cp37m           4 KB  conda-forge\n",
      "    ------------------------------------------------------------\n",
      "                                           Total:        23.6 MB\n",
      "\n",
      "The following NEW packages will be INSTALLED:\n",
      "\n",
      "  jupyter_contrib_c~ conda-forge/noarch::jupyter_contrib_core-0.3.3-py_2\n",
      "  jupyter_contrib_n~ conda-forge/linux-64::jupyter_contrib_nbextensions-0.5.1-py37_0\n",
      "  jupyter_highlight~ conda-forge/linux-64::jupyter_highlight_selected_word-0.2.0-py37_1000\n",
      "  jupyter_latex_envs conda-forge/linux-64::jupyter_latex_envs-1.4.6-py37_1000\n",
      "  jupyter_nbextensi~ conda-forge/linux-64::jupyter_nbextensions_configurator-0.4.1-py37hc8dfbb8_1\n",
      "  python_abi         conda-forge/linux-64::python_abi-3.7-1_cp37m\n",
      "\n",
      "The following packages will be UPDATED:\n",
      "\n",
      "  conda                       pkgs/main::conda-4.8.3-py37_0 --> conda-forge::conda-4.8.3-py37hc8dfbb8_1\n",
      "\n",
      "\n",
      "Proceed ([y]/n)? ^C\n",
      "\n",
      "CondaSystemExit: \n",
      "Operation aborted.  Exiting.\n",
      "\n"
     ]
    }
   ],
   "source": [
    "! conda install -c conda-forge jupyter_contrib_nbextensions #一定要用conda安装"
   ]
  },
  {
   "cell_type": "code",
   "execution_count": 1,
   "metadata": {},
   "outputs": [
    {
     "name": "stdout",
     "output_type": "stream",
     "text": [
      "Enabling notebook extension codefolding/main...\n",
      "      - Validating: \u001b[32mOK\u001b[0m\n",
      "Enabling notebook extension collapsible_headings/main...\n",
      "      - Validating: \u001b[32mOK\u001b[0m\n",
      "Enabling notebook extension toc2/main...\n",
      "      - Validating: \u001b[32mOK\u001b[0m\n"
     ]
    }
   ],
   "source": [
    "! jupyter nbextension enable codefolding/main\n",
    "! jupyter nbextension enable collapsible_headings/main\n",
    "! jupyter nbextension enable toc2/main\n"
   ]
  },
  {
   "cell_type": "code",
   "execution_count": null,
   "metadata": {},
   "outputs": [],
   "source": []
  }
 ],
 "metadata": {
  "kernelspec": {
   "display_name": "Python [conda env:root] *",
   "language": "python",
   "name": "conda-root-py"
  },
  "language_info": {
   "codemirror_mode": {
    "name": "ipython",
    "version": 3
   },
   "file_extension": ".py",
   "mimetype": "text/x-python",
   "name": "python",
   "nbconvert_exporter": "python",
   "pygments_lexer": "ipython3",
   "version": "3.7.6"
  },
  "toc": {
   "base_numbering": 1,
   "nav_menu": {},
   "number_sections": true,
   "sideBar": true,
   "skip_h1_title": false,
   "title_cell": "Table of Contents",
   "title_sidebar": "Contents",
   "toc_cell": false,
   "toc_position": {},
   "toc_section_display": true,
   "toc_window_display": true
  }
 },
 "nbformat": 4,
 "nbformat_minor": 4
}
