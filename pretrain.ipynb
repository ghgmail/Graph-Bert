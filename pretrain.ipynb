{
 "cells": [
  {
   "cell_type": "code",
   "execution_count": 1,
   "metadata": {},
   "outputs": [
    {
     "ename": "ModuleNotFoundError",
     "evalue": "No module named 'code.DatasetLoader'; 'code' is not a package",
     "output_type": "error",
     "traceback": [
      "\u001b[0;31m---------------------------------------------------------------------------\u001b[0m",
      "\u001b[0;31mModuleNotFoundError\u001b[0m                       Traceback (most recent call last)",
      "\u001b[0;32m<ipython-input-1-f977da043212>\u001b[0m in \u001b[0;36m<module>\u001b[0;34m\u001b[0m\n\u001b[0;32m----> 1\u001b[0;31m \u001b[0;32mfrom\u001b[0m \u001b[0mcode\u001b[0m\u001b[0;34m.\u001b[0m\u001b[0mDatasetLoader\u001b[0m \u001b[0;32mimport\u001b[0m \u001b[0mDatasetLoader\u001b[0m\u001b[0;34m\u001b[0m\u001b[0;34m\u001b[0m\u001b[0m\n\u001b[0m\u001b[1;32m      2\u001b[0m \u001b[0;32mfrom\u001b[0m \u001b[0mcode\u001b[0m\u001b[0;34m.\u001b[0m\u001b[0mMethodBertComp\u001b[0m \u001b[0;32mimport\u001b[0m \u001b[0mGraphBertConfig\u001b[0m\u001b[0;34m\u001b[0m\u001b[0;34m\u001b[0m\u001b[0m\n\u001b[1;32m      3\u001b[0m \u001b[0;32mfrom\u001b[0m \u001b[0mcode\u001b[0m\u001b[0;34m.\u001b[0m\u001b[0mMethodGraphBertNodeClassification\u001b[0m \u001b[0;32mimport\u001b[0m \u001b[0mMethodGraphBertNodeClassification\u001b[0m\u001b[0;34m\u001b[0m\u001b[0;34m\u001b[0m\u001b[0m\n\u001b[1;32m      4\u001b[0m \u001b[0;32mfrom\u001b[0m \u001b[0mcode\u001b[0m\u001b[0;34m.\u001b[0m\u001b[0mMethodGraphBertGraphClustering\u001b[0m \u001b[0;32mimport\u001b[0m \u001b[0mMethodGraphBertGraphClustering\u001b[0m\u001b[0;34m\u001b[0m\u001b[0;34m\u001b[0m\u001b[0m\n\u001b[1;32m      5\u001b[0m \u001b[0;32mfrom\u001b[0m \u001b[0mcode\u001b[0m\u001b[0;34m.\u001b[0m\u001b[0mResultSaving\u001b[0m \u001b[0;32mimport\u001b[0m \u001b[0mResultSaving\u001b[0m\u001b[0;34m\u001b[0m\u001b[0;34m\u001b[0m\u001b[0m\n",
      "\u001b[0;31mModuleNotFoundError\u001b[0m: No module named 'code.DatasetLoader'; 'code' is not a package"
     ]
    }
   ],
   "source": [
    "from code.DatasetLoader import DatasetLoader\n",
    "from code.MethodBertComp import GraphBertConfig\n",
    "from code.MethodGraphBertNodeClassification import MethodGraphBertNodeClassification\n",
    "from code.MethodGraphBertGraphClustering import MethodGraphBertGraphClustering\n",
    "from code.ResultSaving import ResultSaving\n",
    "from code.Settings import Settings\n",
    "import numpy as np\n",
    "import torch\n",
    "\n",
    "\n",
    "#---- 'cora' , 'citeseer', 'pubmed' ----\n",
    "\n",
    "dataset_name = 'cora'\n",
    "\n",
    "np.random.seed(1)\n",
    "torch.manual_seed(1)\n",
    "\n",
    "#---- cora-small is for debuging only ----\n",
    "if dataset_name == 'cora-small':\n",
    "    nclass = 7\n",
    "    nfeature = 1433\n",
    "    ngraph = 10\n",
    "elif dataset_name == 'cora':\n",
    "    nclass = 7\n",
    "    nfeature = 1433\n",
    "    ngraph = 2708\n",
    "elif dataset_name == 'citeseer':\n",
    "    nclass = 6\n",
    "    nfeature = 3703\n",
    "    ngraph = 3312\n",
    "elif dataset_name == 'pubmed':\n",
    "    nclass = 3\n",
    "    nfeature = 500\n",
    "    ngraph = 19717"
   ]
  },
  {
   "cell_type": "code",
   "execution_count": null,
   "metadata": {},
   "outputs": [],
   "source": []
  }
 ],
 "metadata": {
  "kernelspec": {
   "display_name": "Python 3.6.10 64-bit ('py3': conda)",
   "language": "python",
   "name": "python361064bitpy3conda2694b0850e3c415589d052bbccc17e32"
  },
  "language_info": {
   "codemirror_mode": {
    "name": "ipython",
    "version": 3
   },
   "file_extension": ".py",
   "mimetype": "text/x-python",
   "name": "python",
   "nbconvert_exporter": "python",
   "pygments_lexer": "ipython3",
   "version": "3.6.10"
  }
 },
 "nbformat": 4,
 "nbformat_minor": 4
}
